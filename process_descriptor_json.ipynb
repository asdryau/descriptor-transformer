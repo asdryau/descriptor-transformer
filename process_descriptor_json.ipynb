{
  "nbformat": 4,
  "nbformat_minor": 0,
  "metadata": {
    "celltoolbar": "Slideshow",
    "kernelspec": {
      "name": "python3",
      "display_name": "Python 3"
    },
    "colab": {
      "name": "process_descriptor_json.ipynb",
      "provenance": [],
      "collapsed_sections": [],
      "include_colab_link": true
    },
    "accelerator": "GPU"
  },
  "cells": [
    {
      "cell_type": "markdown",
      "metadata": {
        "id": "view-in-github",
        "colab_type": "text"
      },
      "source": [
        "<a href=\"https://colab.research.google.com/github/buganart/descriptor-transformer/blob/main/process_descriptor_json.ipynb\" target=\"_parent\"><img src=\"https://colab.research.google.com/assets/colab-badge.svg\" alt=\"Open In Colab\"/></a>"
      ]
    },
    {
      "cell_type": "code",
      "metadata": {
        "id": "DPlalIPIp8P1",
        "cellView": "form"
      },
      "source": [
        "#@title Directory\r\n",
        "# input_dir = \"/content/drive/MyDrive/AUDIO DATABASE/MUSIC TRANSFORMER/GubaidulinaStrings_22050/\" #@param {type:\"string\"}\r\n",
        "# output_dir = \"/content/drive/My Drive/AUDIO DATABASE/MUSIC TRANSFORMER/Transformer Corpus\" #@param {type:\"string\"}\r\n",
        "input_dir = \"/content/drive/MyDrive/AUDIO DATABASE/TESTING/\" #@param {type:\"string\"}\r\n",
        "output_dir = \"/content/drive/MyDrive/AUDIO DATABASE/TESTING/out\" #@param {type:\"string\"}"
      ],
      "execution_count": null,
      "outputs": []
    },
    {
      "cell_type": "code",
      "metadata": {
        "id": "4MlwrB7VvI4P"
      },
      "source": [
        "from google.colab import drive\n",
        "drive.mount('/content/drive')"
      ],
      "execution_count": null,
      "outputs": []
    },
    {
      "cell_type": "code",
      "metadata": {
        "id": "-5j8kHlEJNpn"
      },
      "source": [
        "!pip install librosa==0.8.0\n",
        "import librosa\n",
        "print(librosa.__version__)"
      ],
      "execution_count": null,
      "outputs": []
    },
    {
      "cell_type": "code",
      "metadata": {
        "id": "nnwTz_CGp8P2"
      },
      "source": [
        "import numpy as np\n",
        "import json as json\n",
        "import os"
      ],
      "execution_count": null,
      "outputs": []
    },
    {
      "cell_type": "code",
      "metadata": {
        "id": "QOAOeQCGzEE4"
      },
      "source": [
        "hop = 15400\n",
        "\n",
        "from pathlib import Path\n",
        "output_dir = Path(output_dir)\n",
        "output_dir.mkdir(parents=True, exist_ok=True)\n",
        "\n",
        "for filename in os.scandir(input_dir):\n",
        "    if (filename.path.endswith(\".wav\")):\n",
        "      y, sr = librosa.load(filename)\n",
        "      cent = np.ndarray.flatten(\n",
        "        librosa.feature.spectral_centroid(y=y, sr=sr, hop_length=hop))\n",
        "      flat = np.ndarray.flatten(\n",
        "        librosa.feature.spectral_flatness(y=y, hop_length=hop))\n",
        "      rolloff = np.ndarray.flatten(\n",
        "        librosa.feature.spectral_rolloff(y=y, sr=sr, hop_length=hop))\n",
        "      rms = np.ndarray.flatten(\n",
        "        librosa.feature.rms(y=y, hop_length=hop))\n",
        "      f0 = np.ndarray.flatten(\n",
        "        librosa.yin(y,80,10000, hop_length=hop))\n",
        "\n",
        "      data=[]\n",
        "      for x in range(cent.size):\n",
        "        data.append({str(x * 15400): {\n",
        "            \"cent\": str(cent[x-1]),\n",
        "            \"flat\": str(flat[x-1]),\n",
        "            \"rolloff\": str(rolloff[x-1]),\n",
        "            \"rms\": str(rms[x-1]),\n",
        "            \"f0\": str(f0[x-1])}\n",
        "        })\n",
        "\n",
        "      savefile = output_dir / (str(filename) + \".txt\")\n",
        "      with open(str(savefile), 'a') as outfile:\n",
        "          json.dump(data, outfile, indent=2)\n",
        "\n",
        "      print(savefile)"
      ],
      "execution_count": null,
      "outputs": []
    }
  ]
}