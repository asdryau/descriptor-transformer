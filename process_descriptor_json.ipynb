{
  "nbformat": 4,
  "nbformat_minor": 0,
  "metadata": {
    "celltoolbar": "Slideshow",
    "kernelspec": {
      "display_name": "Python 3.5 (clean)",
      "language": "python",
      "name": "clean3.5"
    },
    "language_info": {
      "codemirror_mode": {
        "name": "ipython",
        "version": 3
      },
      "file_extension": ".py",
      "mimetype": "text/x-python",
      "name": "python",
      "nbconvert_exporter": "python",
      "pygments_lexer": "ipython3",
      "version": "3.5.2"
    },
    "colab": {
      "name": "librosa.ipynb",
      "provenance": [],
      "collapsed_sections": [],
      "include_colab_link": true
    }
  },
  "cells": [
    {
      "cell_type": "markdown",
      "metadata": {
        "id": "view-in-github",
        "colab_type": "text"
      },
      "source": [
        "<a href=\"https://colab.research.google.com/github/buganart/descriptor-transformer/blob/main/process_descriptor_json.ipynb\" target=\"_parent\"><img src=\"https://colab.research.google.com/assets/colab-badge.svg\" alt=\"Open In Colab\"/></a>"
      ]
    },
    {
      "cell_type": "code",
      "metadata": {
        "id": "DPlalIPIp8P1"
      },
      "source": [
        "directory = \"/content/drive/MyDrive/AUDIO DATABASE/MUSIC TRANSFORMER/GubaidulinaStrings_22050/\" #@param {type:\"string\"}"
      ],
      "execution_count": null,
      "outputs": []
    },
    {
      "cell_type": "code",
      "metadata": {
        "colab": {
          "base_uri": "https://localhost:8080/"
        },
        "id": "4MlwrB7VvI4P",
        "outputId": "397bb751-6fa8-4447-b28a-b0c065736f84"
      },
      "source": [
        "from google.colab import drive\n",
        "drive.mount('/content/drive')"
      ],
      "execution_count": null,
      "outputs": [
        {
          "output_type": "stream",
          "text": [
            "Mounted at /content/drive\n"
          ],
          "name": "stdout"
        }
      ]
    },
    {
      "cell_type": "code",
      "metadata": {
        "id": "-5j8kHlEJNpn",
        "colab": {
          "base_uri": "https://localhost:8080/"
        },
        "outputId": "9e54d064-56bc-46a7-9b68-34cfedb0464e"
      },
      "source": [
        "!pip install librosa==0.8.0\n",
        "import librosa\n",
        "print(librosa.__version__)"
      ],
      "execution_count": null,
      "outputs": [
        {
          "output_type": "stream",
          "text": [
            "Requirement already satisfied: librosa==0.8.0 in /usr/local/lib/python3.6/dist-packages (0.8.0)\n",
            "Requirement already satisfied: scipy>=1.0.0 in /usr/local/lib/python3.6/dist-packages (from librosa==0.8.0) (1.4.1)\n",
            "Requirement already satisfied: numpy>=1.15.0 in /usr/local/lib/python3.6/dist-packages (from librosa==0.8.0) (1.19.5)\n",
            "Requirement already satisfied: scikit-learn!=0.19.0,>=0.14.0 in /usr/local/lib/python3.6/dist-packages (from librosa==0.8.0) (0.22.2.post1)\n",
            "Requirement already satisfied: numba>=0.43.0 in /usr/local/lib/python3.6/dist-packages (from librosa==0.8.0) (0.51.2)\n",
            "Requirement already satisfied: soundfile>=0.9.0 in /usr/local/lib/python3.6/dist-packages (from librosa==0.8.0) (0.10.3.post1)\n",
            "Requirement already satisfied: resampy>=0.2.2 in /usr/local/lib/python3.6/dist-packages (from librosa==0.8.0) (0.2.2)\n",
            "Requirement already satisfied: joblib>=0.14 in /usr/local/lib/python3.6/dist-packages (from librosa==0.8.0) (1.0.0)\n",
            "Requirement already satisfied: audioread>=2.0.0 in /usr/local/lib/python3.6/dist-packages (from librosa==0.8.0) (2.1.9)\n",
            "Requirement already satisfied: pooch>=1.0 in /usr/local/lib/python3.6/dist-packages (from librosa==0.8.0) (1.3.0)\n",
            "Requirement already satisfied: decorator>=3.0.0 in /usr/local/lib/python3.6/dist-packages (from librosa==0.8.0) (4.4.2)\n",
            "Requirement already satisfied: setuptools in /usr/local/lib/python3.6/dist-packages (from numba>=0.43.0->librosa==0.8.0) (53.0.0)\n",
            "Requirement already satisfied: llvmlite<0.35,>=0.34.0.dev0 in /usr/local/lib/python3.6/dist-packages (from numba>=0.43.0->librosa==0.8.0) (0.34.0)\n",
            "Requirement already satisfied: cffi>=1.0 in /usr/local/lib/python3.6/dist-packages (from soundfile>=0.9.0->librosa==0.8.0) (1.14.4)\n",
            "Requirement already satisfied: six>=1.3 in /usr/local/lib/python3.6/dist-packages (from resampy>=0.2.2->librosa==0.8.0) (1.15.0)\n",
            "Requirement already satisfied: requests in /usr/local/lib/python3.6/dist-packages (from pooch>=1.0->librosa==0.8.0) (2.23.0)\n",
            "Requirement already satisfied: packaging in /usr/local/lib/python3.6/dist-packages (from pooch>=1.0->librosa==0.8.0) (20.9)\n",
            "Requirement already satisfied: appdirs in /usr/local/lib/python3.6/dist-packages (from pooch>=1.0->librosa==0.8.0) (1.4.4)\n",
            "Requirement already satisfied: pycparser in /usr/local/lib/python3.6/dist-packages (from cffi>=1.0->soundfile>=0.9.0->librosa==0.8.0) (2.20)\n",
            "Requirement already satisfied: certifi>=2017.4.17 in /usr/local/lib/python3.6/dist-packages (from requests->pooch>=1.0->librosa==0.8.0) (2020.12.5)\n",
            "Requirement already satisfied: urllib3!=1.25.0,!=1.25.1,<1.26,>=1.21.1 in /usr/local/lib/python3.6/dist-packages (from requests->pooch>=1.0->librosa==0.8.0) (1.24.3)\n",
            "Requirement already satisfied: idna<3,>=2.5 in /usr/local/lib/python3.6/dist-packages (from requests->pooch>=1.0->librosa==0.8.0) (2.10)\n",
            "Requirement already satisfied: chardet<4,>=3.0.2 in /usr/local/lib/python3.6/dist-packages (from requests->pooch>=1.0->librosa==0.8.0) (3.0.4)\n",
            "Requirement already satisfied: pyparsing>=2.0.2 in /usr/local/lib/python3.6/dist-packages (from packaging->pooch>=1.0->librosa==0.8.0) (2.4.7)\n",
            "0.8.0\n"
          ],
          "name": "stdout"
        }
      ]
    },
    {
      "cell_type": "code",
      "metadata": {
        "id": "nnwTz_CGp8P2"
      },
      "source": [
        "import numpy as np\n",
        "import json as json\n",
        "import os"
      ],
      "execution_count": null,
      "outputs": []
    },
    {
      "cell_type": "code",
      "metadata": {
        "id": "QOAOeQCGzEE4",
        "colab": {
          "base_uri": "https://localhost:8080/"
        },
        "outputId": "7242d1ab-9b74-499c-afff-d9b880f7ed96"
      },
      "source": [
        "hop = 15400\n",
        "\n",
        "for filename in os.scandir(directory):\n",
        "    if (filename.path.endswith(\".wav\")):\n",
        "      y, sr = librosa.load(filename)\n",
        "      cent = np.ndarray.flatten(\n",
        "        librosa.feature.spectral_centroid(y=y, sr=sr, hop_length=hop))\n",
        "      flat = np.ndarray.flatten(\n",
        "        librosa.feature.spectral_flatness(y=y, hop_length=hop))\n",
        "      rolloff = np.ndarray.flatten(\n",
        "        librosa.feature.spectral_rolloff(y=y, sr=sr, hop_length=hop))\n",
        "      rms = np.ndarray.flatten(\n",
        "        librosa.feature.rms(y=y, hop_length=hop))\n",
        "      f0 = np.ndarray.flatten(\n",
        "        librosa.yin(y,80,10000, hop_length=hop))\n",
        "\n",
        "      data=[]\n",
        "      for x in range(cent.size):\n",
        "        data.append({str(x * 15400): {\n",
        "            \"cent\": str(cent[x-1]),\n",
        "            \"flat\": str(flat[x-1]),\n",
        "            \"rolloff\": str(rolloff[x-1]),\n",
        "            \"rms\": str(rms[x-1]),\n",
        "            \"f0\": str(f0[x-1])}\n",
        "        })\n",
        "\n",
        "      savefile = str(filename) + \".txt\"\n",
        "      with open(savefile, 'a') as outfile:\n",
        "          json.dump(data, outfile, indent=2)\n",
        "\n",
        "      print(savefile)"
      ],
      "execution_count": null,
      "outputs": [
        {
          "output_type": "stream",
          "text": [
            "<DirEntry '3. con sordino - senza sordino, Sofia Gubaidulina-JkE_SQSkNbA.wav'>.txt\n",
            "<DirEntry \"'Seven Words' for Violoncello, Bayan and String - VI. It is Finished!-RUzgq1MQA_g.wav\">.txt\n",
            "<DirEntry \"'Seven Words' for Violoncello, Bayan and Strings - II. Woman! Beholdthy Son-wkV0pJhGHHY.wav\">.txt\n",
            "<DirEntry \"'Seven Words' for Violoncello, Bayan and Strings - I. Father! Forgive them, for they know not...-z5A3mZLgMow.wav\">.txt\n",
            "<DirEntry \"Cello - Gunilla Odsboel, Accordeon - Rasmus Kjoeller - 'In Croce' by Sofia Gubaidulina-isuKH9T-xTE.wav\">.txt\n",
            "<DirEntry \"Gubaidulina - 'In Croce' - Martin Rummel & Cao Xiaoqing (1998)-XGQSihJChpM.wav\">.txt\n",
            "<DirEntry 'Gubaidulina - 7 Last Words of Christ, not Cross - 3. Verily I say unto thee-80LegdEZZb4.wav'>.txt\n",
            "<DirEntry \"Fontanamix - 'Silenzio (1991)' di Sofia Gubaidulina-YR3rAFSu2GU.wav\">.txt\n",
            "<DirEntry 'Dancer on a Tightrope (1993) - Sofia Gubaidulina-dwfAXW2R9tk.wav'>.txt\n",
            "<DirEntry \"Gubaidulina - Hommage á T.S. Eliot (1987) - For Octet And Soprano - 5. 'The chill ascends from...-j_mh5v38_EU.wav\">.txt\n",
            "<DirEntry 'Gubaidulina - Offertorium _ Repin · Gullberg Jensen · Berliner Philharmoniker-Fh0Kstf7fkE.wav'>.txt\n",
            "<DirEntry 'Gubaidulina - Perception - 8. Col legno I-boUq_Ayhzx8.wav'>.txt\n",
            "<DirEntry 'Gubaidulina - Listen to the Small Voice Within - Vadim Gluzman and Johannes Moser-1ISebqCFkq0.wav'>.txt\n",
            "<DirEntry 'Gubaidulina - Rejoice with Them That Do Rejoice - Vadim Gluzman and Johannes Moser-TfJOLCvLOeI.wav'>.txt\n",
            "<DirEntry 'Gubaidulina - String Trio (I)-91VUJkOzbgM.wav'>.txt\n",
            "<DirEntry 'Gubaidulina - In Croce-YGx_GBSsAuA.wav'>.txt\n",
            "<DirEntry 'Gubaidulina Seven Words-7Gyr22gUASI.wav'>.txt\n",
            "<DirEntry 'Gubaidulina - String Quartet No. 4-4YKHJXOq9xE.wav'>.txt\n",
            "<DirEntry 'Gubaidulina - String Trio (II-III)-Cmp2bSTN7Og.wav'>.txt\n",
            "<DirEntry 'In croce (version for cello and accordion)-1rGm9BI9fgk.wav'>.txt\n",
            "<DirEntry 'Gubaidulina- Dancer on a Tightrope; Katha Zinn, violin, Illya Filshtinskiy, piano-LQDbofn2e74.wav'>.txt\n",
            "<DirEntry 'In Croce - Sofia Gubaidulina-V7LbWh4QjSE.wav'>.txt\n",
            "<DirEntry 'Gubaidulina Quaternion for 4 cellos-sPnlNbmxl-U.wav'>.txt\n",
            "<DirEntry 'In Croce for Double Bass and Bayan - Violoncello and Bayan-mC5865ku9hY.wav'>.txt\n",
            "<DirEntry 'In Croce(1)   Sofia Gubaidulina-i1vDZ2N93Zo.wav'>.txt\n",
            "<DirEntry 'In Croce-9D_9_ZxtyEA.wav'>.txt\n",
            "<DirEntry 'In Croce(2)   Sofia Gubaidulina-W4Zw5cTBq60.wav'>.txt\n",
            "<DirEntry 'In croce-9COpABuDkrg.wav'>.txt\n",
            "<DirEntry 'In Croce-j_O6qDgBVgE.wav'>.txt\n",
            "<DirEntry 'Kadesh kammerorchester Wien, Gubaidulina, the seven last words II-Lg5iNjkZ7v4.wav'>.txt\n",
            "<DirEntry 'Kadesh kammerorchester Wien, Gubaidulina, the seven last words VI-wKiRLox1ye0.wav'>.txt\n",
            "<DirEntry \"Megan McDevitt, Sofia Gubaidulina, Al taco -da punta d'arco-Whg44dqcilU.wav\">.txt\n",
            "<DirEntry 'Kadesh Kammerorchester Wien,Gubaidulina, the seven last words VII-heNm_Uvy80s.wav'>.txt\n",
            "<DirEntry 'Jason Calloway plays Sofia Gubaidulina - 10 Preludes for Cello Alone-mD2bV-tiX58.wav'>.txt\n",
            "<DirEntry 'Prelude - Sofia Gubaidulina played by Mayke Rademakers-O-lChngWKiE.wav'>.txt\n",
            "<DirEntry 'mdi ensemble - Sofia Gubaidulina, String Trio (1988)-qiNaQQ6Xk_A.wav'>.txt\n",
            "<DirEntry 'Royal String Quartet - S.Gubaidulina - String Quartet no.2  - Festiwal Kwartesencja 2007-0RDg8miytz4.wav'>.txt\n",
            "<DirEntry \"Naiara De La Puente. Sofia Gubaidulina - 'In Croce' (1979)-3eOfaYj-n18.wav\">.txt\n",
            "<DirEntry 'Rejoice by Sofia Gubaidulina-53SZEAETpDk.wav'>.txt\n",
            "<DirEntry 'S.Gubaidulina - Silenzio II - Paolo Fiordalice-uDU1-BLSa8o.wav'>.txt\n",
            "<DirEntry 'S. Gubaidulina - In Croce (1979_1992), Mathieu Jocqué (violoncello), Miroslav Nisic (accordion)-52H6TUUazVc.wav'>.txt\n",
            "<DirEntry 'Seven Words (Sieben Worte) for Cello, bayan (accordion) and strings - II. Weib, siehe, das ist...-4aDWSb_ZI-E.wav'>.txt\n",
            "<DirEntry 'Seven Words (Sieben Worte) for Cello, bayan (accordion) and strings - VI. Es ist vollbracht-A78rrjUfM3w.wav'>.txt\n",
            "<DirEntry 'Seven Words - It is Finished-YgbXHYhuAYU.wav'>.txt\n",
            "<DirEntry 'S. Gubaidulina. In croce (Kazan, 2015)-JJ8_lQsBBkM.wav'>.txt\n",
            "<DirEntry 'Seven Words-TIcu7H2Rebs.wav'>.txt\n",
            "<DirEntry 'Seven Words - Verily I Say Unto Thee, Today Shalt Thou Be With Me in Paradise-KQcrZRiykXc.wav'>.txt\n",
            "<DirEntry 'Sofia Gubaidulina  - 10 Preludes for solo cello - 1. staccato-legato-a2FC42P_dvQ.wav'>.txt\n",
            "<DirEntry 'Sofia Gubaidulina  - 10 Preludes for solo cello - 2. legato - staccato-iiMeTYraSxQ.wav'>.txt\n",
            "<DirEntry 'Sofia Gubaidulina  - 10 Preludes for solo cello - 4. ricochet-t-uHbKSuVdc.wav'>.txt\n",
            "<DirEntry 'Sofia Gubaidulina  - 10 Preludes for solo cello - 8. arco - pizzicato-kd1pNyyMc9g.wav'>.txt\n",
            "<DirEntry 'Silenzio, Five Pieces for byan, Violin and Cello (1991)  - I.-BiRRyPQh5ik.wav'>.txt\n",
            "<DirEntry 'Sofia Gubaidulina  - 10 Preludes for solo cello - 5. sul ponticello - ordinario - sul tasto--ORJt2euEjY.wav'>.txt\n",
            "<DirEntry 'S. Gubaidulina. The seven last words. E.Belinskaya  cello. V.Balyk  bayan. V.Belinskiy conductor-hh1mEXFjz58.wav'>.txt\n",
            "<DirEntry 'Sofia Gubaidulina  - MIRAGE - THE DANCING SUN - LUDUS GRAVIS ensemble-l0ZFRBHPdUA.wav'>.txt\n",
            "<DirEntry 'Sofia Gubaidulina  - In croce-87NhkaPyczY.wav'>.txt\n",
            "<DirEntry \"Sofia Gubaidulina 'Silenzio' for bajan, violino and cello ,4-5 pieces  _ensemble Fandango(Russia)-JsKGXslNMfc.wav\">.txt\n",
            "<DirEntry 'Sofia Gubaidulina - Cello Preludes, No. 1 - Staccato - Legato-gVELgqRI6TM.wav'>.txt\n",
            "<DirEntry \"Sofia Gubaidulina 'Silenzio'1-3- pieces, ensemble Fandango( Russia,Moscow)-jIMJB92Hifc.wav\">.txt\n",
            "<DirEntry 'Sofia Gubaidulina - Cello Preludes, No. 10 - Senza Arco - Senza Pizzicato-pcaVV5z4atc.wav'>.txt\n",
            "<DirEntry 'Sofia Gubaidulina  - Seven words ( highlights.)-pN60dFIlFeU.wav'>.txt\n",
            "<DirEntry 'Sofia Gubaidulina - Cello Preludes, No. 2 - Legato - Staccato-m40x7pUSRFQ.wav'>.txt\n",
            "<DirEntry 'Sofia Gubaidulina - Cello Preludes, No. 4 - Ricochet-QJvVFWKAfJs.wav'>.txt\n",
            "<DirEntry 'Sofia Gubaidulina - Cello Preludes, No. 3 - Con Sordino - Senza Sordino-5yIFUpjkX6k.wav'>.txt\n",
            "<DirEntry 'Sofia Gubaidulina (_1931) - In croce (1979_92)-AHP73FN8hZk.wav'>.txt\n",
            "<DirEntry 'Sofia Gubaidulina - Cello Preludes, No. 8 - Arco - Pizzicato-Z0mVBlja4W0.wav'>.txt\n",
            "<DirEntry 'Sofia Gubaidulina - Cello Preludes, No. 6 - Flagioleti-jzTMzu8eXdM.wav'>.txt\n",
            "<DirEntry 'Sofia Gubaidulina - Cello Preludes, No. 5 - Sul Ponticello - Ordinaro - Sul Tasto-uJCXUkOyjew.wav'>.txt\n",
            "<DirEntry 'Sofia Gubaidulina - Cello Preludes, No. 9 - Pizzicato - Arco-r2Wi7ZSaIzM.wav'>.txt\n",
            "<DirEntry 'Sofia Gubaidulina - In Croce (1_2)-MqY1HErgY8U.wav'>.txt\n",
            "<DirEntry 'Sofia Gubaidulina - Hommage à T. S. Eliot, V-VI-sr7kW54hqNU.wav'>.txt\n",
            "<DirEntry 'Sofia Gubaidulina - In Croce (1979_1992)-29Y6808xXP0.wav'>.txt\n",
            "<DirEntry 'Sofia Gubaidulina - In Croce (2_2)-Q7IKCadE6vk.wav'>.txt\n",
            "<DirEntry 'Sofia Gubaidulina - Dancer on a Tightrope-RxWLOozHcHQ.wav'>.txt\n",
            "<DirEntry 'Sofia Gubaidulina - Prelude I  Staccato -- Legato; Robert Christian Sanchez-Di6rSjZ6cKI.wav'>.txt\n",
            "<DirEntry 'Sofia Gubaidulina - Quartet No. 2 (1987)-bMYH-hxSj-c.wav'>.txt\n",
            "<DirEntry 'Sofia Gubaidulina - In Croce for cello and bayan-hpWVqVoHL9U.wav'>.txt\n",
            "<DirEntry 'Sofia Gubaidulina - In Croce, for cello & organ (1979 - Vienna 2018)-FBtX9ESqp_Y.wav'>.txt\n",
            "<DirEntry 'Sofia Gubaidulina - In croce-QSL41Y8GRfQ.wav'>.txt\n",
            "<DirEntry 'Sofia Gubaidulina - Seven words part III-HA5MDNImoFU.wav'>.txt\n",
            "<DirEntry 'Sofia Gubaidulina \\u200e- Seven Last Words (1st Movement)-yGKpajaJhBQ.wav'>.txt\n",
            "<DirEntry 'Sofia Gubaidulina - Seven words part VI-CkzqqtiI21c.wav'>.txt\n",
            "<DirEntry 'Sofia Gubaidulina - Seven words part I-g33S4XQ7qWs.wav'>.txt\n",
            "<DirEntry 'Sofia Gubaidulina - selections from eight studies for double bass solo-zthJ4BSJBJs.wav'>.txt\n",
            "<DirEntry 'Sofia Gubaidulina - Seven words part VII-U50IC5MhfF4.wav'>.txt\n",
            "<DirEntry 'Sofia Gubaidulina - Silenzio, I-III-qkKEhh_5gOQ.wav'>.txt\n",
            "<DirEntry 'Sofia Gubaidulina - Silenzio, IV-V-xZDvft3St40.wav'>.txt\n",
            "<DirEntry 'Sofia Gubaidulina - String Quartet No. 2 (w_ score)-RbyHVU3ny4c.wav'>.txt\n",
            "<DirEntry 'Sofia Gubaidulina - Sieben Worte (1982) for cello, bayan and strings-uAMboPrZ4jM.wav'>.txt\n",
            "<DirEntry 'Sofia Gubaidulina - Sieben Worte for cello, bayan and strings-PltmF20Hr1U.wav'>.txt\n",
            "<DirEntry 'Sofia Gubaidulina - Sieben Worte (1982)-PZgA5iBaRkY.wav'>.txt\n",
            "<DirEntry 'Sofia Gubaidulina - String Quartet No. 4 (1993)-VV4DH2rPMzg.wav'>.txt\n",
            "<DirEntry 'Sofia Gubaidulina - The Seven Last Words, I-III-_9PpmlBmVns.wav'>.txt\n",
            "<DirEntry 'Sofia Gubaidulina - string quartet nr. 1 (1971)-DKihfPPBAGM.wav'>.txt\n",
            "<DirEntry 'Sofia Gubaidulina - The Seven Last Words, VI-VII-pjCeEuK1MN8.wav'>.txt\n",
            "<DirEntry 'Sofia Gubaidulina - Ten Cello Preludes-dYjOhREQsek.wav'>.txt\n",
            "<DirEntry 'Sofia Gubaidulina - The Seven Last Words, IV-V-_HPjEdLllAQ.wav'>.txt\n",
            "<DirEntry 'SOFIA GUBAIDULINA QUARTETTO n 2   PAUL KLEE 4TET-jYvUVIgJ3vw.wav'>.txt\n",
            "<DirEntry 'Sofia Gubaidulina - Trio a Cordes - Aperture Duo + Ashley Walters - wasteLAnd-HpAGcIsoRMQ.wav'>.txt\n",
            "<DirEntry 'Sofia Gubaidulina Silenzio For Bayan, Violin & Cello-RJVz6HC33dw.wav'>.txt\n",
            "<DirEntry \"Sofia Gubaidulina's 'Seven Words' performed in Eurythmy-fY8h_D2GQqI.wav\">.txt\n",
            "<DirEntry 'Sofia Gubaidulina Rejoice! Freue dich! Sonata for Violin and Cello (1981)-cz7PMPe8cXs.wav'>.txt\n",
            "<DirEntry 'Sofia Gubaidulina ~ Quaternion-pupQVT4VPMw.wav'>.txt\n",
            "<DirEntry 'Sofia Gubaidulina. In Croce (1979) for violoncello and organ-FW1DuMEFdaQ.wav'>.txt\n",
            "<DirEntry 'Sofia Gubaidulina. In Croce-DFV4ktWUXAM.wav'>.txt\n",
            "<DirEntry \"Sofia Gubaidulina; aus '10 Präludien für Solo-Cello', 1. Staccato-legato _ Hrvoje Krizic-A3b7xnDfCh0.wav\">.txt\n",
            "<DirEntry \"Sofia Gubaidulina; aus '10 Präludien für Solo-Cello', 2. Legato-staccato _ Hrvoje Krizic-WiG7x0PP0QM.wav\">.txt\n",
            "<DirEntry 'Sofia Gubaidulina Семь слов Sieben Worte The seven last words L. Döll Cello V. Shobanov Bajan-3ZNjrGDLB90.wav'>.txt\n",
            "<DirEntry 'Sophia Gubaidulina- Prelude no. 9 Pizzicato-arco-fWq3F1Aazgw.wav'>.txt\n",
            "<DirEntry 'Sofia Gubaidulina. The seven last words. E.Belinskaya cello, V.Balyk bayan, V.Belinskiy conductor-5ImO5rrL7qo.wav'>.txt\n",
            "<DirEntry 'Sofia Gubaidulina.The seven last words. Partita for Cello, Bayan and String Orchestra.-e7Hx0a97lXo.wav'>.txt\n",
            "<DirEntry 'The Last Seven Words - Sofia Gubaidulina [Full Album]-VSV5OSn-aB0.wav'>.txt\n",
            "<DirEntry \"Copy of 'Seven Words' for Violoncello, Bayan and Strings - II. Woman! Beholdthy Son-wkV0pJhGHHY.wav\">.txt\n",
            "<DirEntry \"Copy of 'Seven Words' for Violoncello, Bayan and Strings - I. Father! Forgive them, for they know not...-z5A3mZLgMow.wav\">.txt\n",
            "<DirEntry \"Copy of 'Seven Words' for Violoncello, Bayan and String - VI. It is Finished!-RUzgq1MQA_g.wav\">.txt\n"
          ],
          "name": "stdout"
        }
      ]
    },
    {
      "cell_type": "code",
      "metadata": {
        "colab": {
          "base_uri": "https://localhost:8080/"
        },
        "id": "xHrnLzMktFhB",
        "outputId": "a53bfb55-79c4-4c75-e89f-6ef7f4908cad"
      },
      "source": [
        "cd /content/drive/MyDrive/AUDIO DATABASE/MUSIC TRANSFORMER/Transformer Corpus/"
      ],
      "execution_count": null,
      "outputs": [
        {
          "output_type": "stream",
          "text": [
            "/content/drive/.shortcut-targets-by-id/1g9TBrZlLWlPE6kHjK3acpfYq9HZrG5gr/AUDIO DATABASE/MUSIC TRANSFORMER/Transformer Corpus\n"
          ],
          "name": "stdout"
        }
      ]
    }
  ]
}